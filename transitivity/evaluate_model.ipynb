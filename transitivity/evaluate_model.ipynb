{
 "cells": [
  {
   "cell_type": "code",
   "execution_count": 2,
   "metadata": {
    "collapsed": true
   },
   "outputs": [],
   "source": [
    "# Load the word-vector dictionary\n",
    "\n",
    "import sys\n",
    "sys.path.insert(0, '../')\n",
    "from wordvecs import WordVecsDict\n",
    "\n",
    "dic = WordVecsDict()\n",
    "\n",
    "# Can use word2vec or GloVe vectors\n",
    "dictFileName = '../dicts/word2vec-GoogleNews-vecs300-norm.pickle'#'../dicts/glove-crawl840B-vecs300-norm.pickle'#\n",
    "dic.loadDict(dictFileName)"
   ]
  },
  {
   "cell_type": "code",
   "execution_count": 3,
   "metadata": {
    "collapsed": false
   },
   "outputs": [
    {
     "name": "stdout",
     "output_type": "stream",
     "text": [
      "Relational similarity between ['hat', 'head'] and ['mask', 'face']: 0.309551861798\n",
      "Relational similarity between ['mask', 'face'] and ['disguise', 'identity']: 0.180767972666\n",
      "Relational similarity between ['hat', 'head'] and ['disguise', 'identity']: 0.103076348178\n",
      "\n",
      "Relational similarity between ['foot', 'shoe'] and ['wrist', 'bracelet']: 0.280102172615\n",
      "Relational similarity between ['wrist', 'bracelet'] and ['wall', 'painting']: 0.104026096215\n",
      "Relational similarity between ['foot', 'shoe'] and ['wall', 'painting']: 0.0804918522403\n",
      "\n",
      "Relational similarity between ['dog', 'mailman'] and ['cat', 'mouse']: 0.188309777423\n",
      "Relational similarity between ['cat', 'mouse'] and ['horse', 'hay']: 0.0799512126445\n",
      "Relational similarity between ['dog', 'mailman'] and ['horse', 'hay']: 0.188741055546\n",
      "\n",
      "Relational similarity between ['nurse', 'patient'] and ['mother', 'baby']: 0.191201389614\n",
      "Relational similarity between ['mother', 'baby'] and ['frog', 'tadpole']: 0.0320080414498\n",
      "Relational similarity between ['nurse', 'patient'] and ['frog', 'tadpole']: 0.000500979010814\n",
      "\n",
      "Relational similarity between ['cocoon', 'butterfly'] and ['egg', 'chicken']: 0.117175584599\n",
      "Relational similarity between ['egg', 'chicken'] and ['wine', 'vineyard']: -0.0613815017389\n",
      "Relational similarity between ['cocoon', 'butterfly'] and ['wine', 'vineyard']: -0.00433555899167\n",
      "\n",
      "Relational similarity between ['person', 'clothes'] and ['bird', 'feathers']: 0.397573050561\n",
      "Relational similarity between ['bird', 'feathers'] and ['cat', 'whiskers']: 0.443289409973\n",
      "Relational similarity between ['person', 'clothes'] and ['cat', 'whiskers']: 0.174493880096\n",
      "\n",
      "Relational similarity between ['student', 'backpack'] and ['snail', 'shell']: 0.0781710422588\n",
      "Relational similarity between ['snail', 'shell'] and ['rabbit', 'burrow']: 0.225210881096\n",
      "Relational similarity between ['student', 'backpack'] and ['rabbit', 'burrow']: 0.0638177570837\n",
      "\n",
      "Relational similarity between ['wedding', 'bride'] and ['aquarium', 'fish']: 0.0807244123625\n",
      "Relational similarity between ['aquarium', 'fish'] and ['carton', 'milk']: 0.0626443313057\n",
      "Relational similarity between ['wedding', 'bride'] and ['carton', 'milk']: -0.0288957571173\n",
      "\n",
      "Relational similarity between ['flock', 'bird'] and ['hive', 'bee']: 0.227032118665\n",
      "Relational similarity between ['hive', 'bee'] and ['hangar', 'airplane']: 0.215699206549\n",
      "Relational similarity between ['flock', 'bird'] and ['hangar', 'airplane']: 0.0929316710111\n",
      "\n",
      "Relational similarity between ['lawyer', 'books'] and ['chemist', 'beakers']: 0.268639143891\n",
      "Relational similarity between ['chemist', 'beakers'] and ['librarian', 'books']: 0.204849782284\n",
      "Relational similarity between ['lawyer', 'books'] and ['librarian', 'books']: 0.527059453716\n",
      "\n",
      "Relational similarity between ['veil', 'face'] and ['password', 'access']: 0.0408062091054\n",
      "Relational similarity between ['password', 'access'] and ['key', 'safe']: 0.0256017688226\n",
      "Relational similarity between ['veil', 'face'] and ['key', 'safe']: -0.0236803195494\n",
      "\n",
      "Relational similarity between ['pride', 'lion'] and ['brain', 'neuron']: 0.0289958505516\n",
      "Relational similarity between ['brain', 'neuron'] and ['computer', 'chip']: 0.137390765711\n",
      "Relational similarity between ['pride', 'lion'] and ['computer', 'chip']: 0.0170760672649\n",
      "\n"
     ]
    }
   ],
   "source": [
    "# Calculate the relational similarity for each analogy\n",
    "\n",
    "tests = [[['hat', 'head'], ['mask', 'face'], ['disguise', 'identity']],\n",
    "           [['foot', 'shoe'], ['wrist', 'bracelet'], ['wall', 'painting']],\n",
    "           [['dog', 'mailman'], ['cat', 'mouse'], ['horse', 'hay']],\n",
    "           [['nurse', 'patient'], ['mother', 'baby'], ['frog', 'tadpole']],\n",
    "           [['cocoon', 'butterfly'], ['egg', 'chicken'], ['wine', 'vineyard']],\n",
    "           [['person', 'clothes'], ['bird', 'feathers'], ['cat', 'whiskers']],\n",
    "           [['student', 'backpack'], ['snail', 'shell'], ['rabbit', 'burrow']],\n",
    "           [['wedding', 'bride'], ['aquarium', 'fish'], ['carton', 'milk']],\n",
    "           [['flock', 'bird'], ['hive', 'bee'], ['hangar', 'airplane']],\n",
    "           [['lawyer', 'books'], ['chemist', 'beakers'], ['librarian', 'books']],\n",
    "           [['veil', 'face'], ['password', 'access'], ['key', 'safe']],\n",
    "           [['pride', 'lion'], ['brain', 'neuron'], ['computer', 'chip']]]\n",
    "\n",
    "sims12 = []\n",
    "sims23 = []\n",
    "sims13 = []\n",
    "\n",
    "for triple in tests:\n",
    "    pair1 = triple[0]\n",
    "    pair2 = triple[1]\n",
    "    pair3 = triple[2]\n",
    "    if dic.hasWords(*pair1) and dic.hasWords(*pair2) and dic.hasWords(*pair3):\n",
    "        sim12 = dic.relationalSim(pair1, pair2)\n",
    "        sim23 = dic.relationalSim(pair2, pair3)\n",
    "        sim13 = dic.relationalSim(pair1, pair3)\n",
    "        sims12.append(sim12)\n",
    "        sims23.append(sim23)\n",
    "        sims13.append(sim13)\n",
    "        \n",
    "        print 'Relational similarity between {} and {}: {}'.format(pair1, pair2, sim12)\n",
    "        print 'Relational similarity between {} and {}: {}'.format(pair2, pair3, sim23)\n",
    "        print 'Relational similarity between {} and {}: {}'.format(pair1, pair3, sim13)\n",
    "        print"
   ]
  },
  {
   "cell_type": "code",
   "execution_count": 4,
   "metadata": {
    "collapsed": false
   },
   "outputs": [
    {
     "name": "stdout",
     "output_type": "stream",
     "text": [
      "F = 1.19962197967, p = 0.314108166684\n"
     ]
    }
   ],
   "source": [
    "# Conduct an ANOVA to test for differences between the 3 analogy types\n",
    "\n",
    "from scipy.stats import f_oneway\n",
    "\n",
    "F, f_prob = f_oneway(sims12, sims23, sims13)\n",
    "print 'F = {}, p = {}'.format(F, f_prob)"
   ]
  }
 ],
 "metadata": {
  "kernelspec": {
   "display_name": "Python 2",
   "language": "python",
   "name": "python2"
  },
  "language_info": {
   "codemirror_mode": {
    "name": "ipython",
    "version": 2
   },
   "file_extension": ".py",
   "mimetype": "text/x-python",
   "name": "python",
   "nbconvert_exporter": "python",
   "pygments_lexer": "ipython2",
   "version": "2.7.12"
  }
 },
 "nbformat": 4,
 "nbformat_minor": 0
}
