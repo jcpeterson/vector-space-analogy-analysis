{
 "cells": [
  {
   "cell_type": "code",
   "execution_count": 1,
   "metadata": {
    "collapsed": false
   },
   "outputs": [],
   "source": [
    "# Load the word-vector dictionary\n",
    "\n",
    "import sys\n",
    "sys.path.insert(0, '../')\n",
    "from wordvecs import WordVecsDict\n",
    "\n",
    "dic = WordVecsDict()\n",
    "\n",
    "# Can use word2vec or GloVe vectors\n",
    "dictFileName = '../dicts/word2vec-GoogleNews-vecs300-norm.pickle'#'../dicts/glove-crawl840B-vecs300-norm.pickle'#\n",
    "dic.loadDict(dictFileName)"
   ]
  },
  {
   "cell_type": "code",
   "execution_count": 2,
   "metadata": {
    "collapsed": true
   },
   "outputs": [],
   "source": [
    "# Load the mean ratings for all comparisons\n",
    "\n",
    "import cPickle\n",
    "ratingsFileName = 'relsim_mean_ratings.pickle'\n",
    "with open(ratingsFileName, 'rb') as ratingsFile:\n",
    "    comp_ratings = cPickle.load(ratingsFile)"
   ]
  },
  {
   "cell_type": "code",
   "execution_count": 3,
   "metadata": {
    "collapsed": false
   },
   "outputs": [
    {
     "name": "stdout",
     "output_type": "stream",
     "text": [
      "Relation 1\n",
      "cosine r = 0.199051160842\n",
      "Euclidean r = 0.292203255887\n",
      "\n",
      "Relation 2\n",
      "cosine r = 0.324399970986\n",
      "Euclidean r = 0.227347147063\n",
      "\n",
      "Relation 3\n",
      "cosine r = -0.05327534789\n",
      "Euclidean r = 0.0343375900588\n",
      "\n",
      "Relation 4\n",
      "cosine r = 0.00815956991989\n",
      "Euclidean r = 0.148547523447\n",
      "\n",
      "Relation 5\n",
      "cosine r = 0.271585365358\n",
      "Euclidean r = 0.245001890691\n",
      "\n",
      "Relation 6\n",
      "cosine r = -0.0108095331659\n",
      "Euclidean r = 0.159617985456\n",
      "\n",
      "Relation 7\n",
      "cosine r = 0.504112348157\n",
      "Euclidean r = 0.476912075186\n",
      "\n",
      "Relation 8\n",
      "cosine r = 0.0848324348175\n",
      "Euclidean r = 0.0947301134938\n",
      "\n",
      "Relation 9\n",
      "cosine r = 0.300300821497\n",
      "Euclidean r = 0.480926891516\n",
      "\n",
      "Relation 10\n",
      "cosine r = 0.0619665066231\n",
      "Euclidean r = 0.222845272332\n",
      "\n"
     ]
    }
   ],
   "source": [
    "# Evaluate the model (word2vec or GloVe) on the relational similarity ratings\n",
    "# for each relational type\n",
    "\n",
    "import numpy as np\n",
    "from numpy.linalg import norm\n",
    "from scipy.stats import pearsonr\n",
    "\n",
    "num_rels = 10\n",
    "\n",
    "# Get the ratings and predictions for each relational type\n",
    "\n",
    "ratings_each_rel = [[] for i in xrange(num_rels)]\n",
    "cos_each_rel = [[] for i in xrange(num_rels)]\n",
    "euc_each_rel = [[] for i in xrange(num_rels)]\n",
    "\n",
    "for comp, values in comp_ratings.iteritems():\n",
    "    rel1 = comp[0]\n",
    "    rel2 = comp[1]\n",
    "    pair1 = comp[2]\n",
    "    pair2 = comp[3]\n",
    "    \n",
    "    if dic.hasWords(*pair1) and dic.hasWords(*pair2):\n",
    "        reltype1 = int(rel1[:-1])\n",
    "        reltype2 = int(rel2[:-1])\n",
    "        if reltype1 == reltype2:   # within-type comparisons\n",
    "            rel = reltype1 - 1\n",
    "            mean_rating, count = values\n",
    "\n",
    "            cos_sim = dic.relationalSim(pair1, pair2, method='cosine')\n",
    "            euc_sim = dic.relationalSim(pair1, pair2, method='euclidean')\n",
    "            \n",
    "            ratings_each_rel[rel].append(mean_rating)\n",
    "            cos_each_rel[rel].append(cos_sim)\n",
    "            euc_each_rel[rel].append(euc_sim)\n",
    "            \n",
    "            \n",
    "# Display Pearson's r between human ratings and cosine/Euclidean similarity\n",
    "for reltype in xrange(num_rels):\n",
    "    rated_sims = ratings_each_rel[reltype]\n",
    "    cos_sims = cos_each_rel[reltype]\n",
    "    euc_sims = euc_each_rel[reltype]\n",
    "    cos_r = pearsonr(rated_sims, cos_sims)[0]\n",
    "    euc_r = pearsonr(rated_sims, euc_sims)[0]\n",
    "    \n",
    "    print 'Relation', reltype + 1\n",
    "    print 'cosine r =', cos_r\n",
    "    print 'Euclidean r =', euc_r\n",
    "    print"
   ]
  }
 ],
 "metadata": {
  "kernelspec": {
   "display_name": "Python 2",
   "language": "python",
   "name": "python2"
  },
  "language_info": {
   "codemirror_mode": {
    "name": "ipython",
    "version": 2
   },
   "file_extension": ".py",
   "mimetype": "text/x-python",
   "name": "python",
   "nbconvert_exporter": "python",
   "pygments_lexer": "ipython2",
   "version": "2.7.12"
  }
 },
 "nbformat": 4,
 "nbformat_minor": 0
}
