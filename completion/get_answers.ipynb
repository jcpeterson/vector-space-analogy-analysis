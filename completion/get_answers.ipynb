{
 "cells": [
  {
   "cell_type": "code",
   "execution_count": 4,
   "metadata": {
    "collapsed": false,
    "scrolled": true
   },
   "outputs": [
    {
     "name": "stdout",
     "output_type": "stream",
     "text": [
      "('multiplication', 'product', 'addition')\n",
      "[['sum', 21], ['subtraction', 5], ['product', 2], ['combination', 1], ['division', 1], ['adding', 1]]\n",
      "\n",
      "('movie', 'screen', 'lightning')\n",
      "[['sky', 17], ['storm', 4], ['bolt', 2], ['camera', 2], ['thunder', 2], ['dark', 1], ['thrunder', 1], ['lightning', 1], ['outlet', 1], ['lamp', 1]]\n",
      "\n",
      "('pen', 'pig', 'reservoir')\n",
      "[['water', 22], ['lake', 2], ['container', 2], ['fish', 2], ['hole', 1], ['dog', 1], ['duck', 1]]\n",
      "\n",
      "('bracelet', 'wrist', 'moat')\n",
      "[['castle', 26], ['arm', 1], ['moat', 1], ['fort', 1], ['king', 1], ['water', 1], ['boat', 1]]\n",
      "\n",
      "('sister', 'brother', 'uncle')\n",
      "[['aunt', 1]]\n",
      "\n",
      "('jacket', 'zipper', 'wound')\n",
      "[['stitches', 8], ['bandage', 6], ['bandaid', 3], ['blood', 2], ['cut', 2], ['stitch', 2], ['suture', 1], ['dehiscence', 1], ['gauze', 1], ['scab', 1], ['opening', 1], ['skin', 1], ['tear', 1]]\n",
      "\n",
      "('burger', 'bun', 'book')\n",
      "[['cover', 11], ['shelf', 7], ['pages', 3], ['page', 2], ['binding', 2], ['paper', 2], ['story', 1], ['bookend', 1], ['book cover', 1], ['cupboard', 1], ['jacket', 1]]\n",
      "\n",
      "('train', 'track', 'signal')\n",
      "[['light', 11], ['road', 5], ['car', 2], ['go', 1], ['wire', 1], ['intersection', 1], ['way', 1], ['signal', 1], ['antenna', 1], ['path', 1], ['cable', 1], ['direction', 1], ['stoplight', 1], ['sign', 1], ['wires', 1]]\n",
      "\n",
      "('immunization', 'disease', 'vaccination')\n",
      "[['virus', 8], ['cure', 4], ['illness', 3], ['sickness', 3], ['disease', 2], ['flu', 2], ['prevetion', 1], ['polio', 1], ['infection', 1], ['outbreak', 1], ['relaxation', 1], ['medicine', 1], ['immune system', 1]]\n",
      "\n",
      "('thermometer', 'temperature', 'barometer')\n",
      "[['pressure', 15], ['humidity', 4], ['wind', 4], ['air pressure', 2], ['weather', 2], ['measure', 1], ['cool', 1], ['tornado', 1]]\n",
      "\n",
      "('baker', 'cake', 'chef')\n",
      "[['meal', 7], ['food', 6], ['entree', 5], ['dish', 3], ['steak', 3], ['dinner', 1], ['cake', 1], ['pastry', 1], ['meat', 1], ['soup', 1], ['cuisine', 1], ['stew', 1], ['cook', 1]]\n",
      "\n",
      "('basket', 'picnic', 'holster')\n",
      "[['gun', 24], ['pocket', 1], ['service', 1], ['shootout', 1], ['carry', 1], ['holster', 1], ['gunfight', 1], ['range', 1], ['shooting range', 1]]\n",
      "\n",
      "('thermometer', 'temperature', 'polygraph')\n",
      "[['honesty', 9], ['truth', 5], ['lies', 3], ['lie', 2], ['lie detector', 2], ['waves', 1], ['pulse', 1], ['lie detection', 1], ['machine', 1], ['lines', 1], ['heartbeat', 1], ['polygon', 1], ['lie-detector', 1], ['psychogalvanic', 1], ['dishonesty', 1]]\n",
      "\n",
      "('lamb chop', 'lamb', 'chapter')\n",
      "[['book', 25], ['story', 1], ['part', 1], ['chapter', 1], ['verse', 1], ['whole', 1]]\n",
      "\n",
      "('cleanser', 'face', 'soap')\n",
      "[['body', 21], ['hands', 6], ['hand', 1], ['antibacterial', 1], ['laundry', 1]]\n",
      "\n",
      "('rectangle', 'perimeter', 'circle')\n",
      "[['circumference', 15], ['diameter', 6], ['area', 3], ['round', 2], ['radius', 2], ['triangle', 1], ['circumfrence', 1], ['semicircle', 1]]\n",
      "\n",
      "('orchard', 'apple', 'grove')\n",
      "[['orange', 9], ['tree', 4], ['lemon', 2], ['trees', 2], ['olive', 1], ['grape', 1], ['grapes', 1], ['pecan', 1], ['wheat', 1], ['apple', 1], ['bushes', 1], ['pine', 1], ['scrub', 1], ['elm', 1], ['pear', 1], ['garden', 1]]\n",
      "\n",
      "('father', 'son', 'inventor')\n",
      "[['invention', 18], ['apprentice', 3], ['person', 1], ['invented', 1], ['inventor', 1], ['experiment', 1], ['assistant', 1], ['mentor', 1], ['design', 1], ['idea', 1], ['investor', 1]]\n",
      "\n",
      "('kitten', 'cat', 'spark')\n",
      "[['fire', 14], ['flame', 4], ['lightning', 3], ['electricity', 2], ['spark', 1], ['light', 1], ['dragon', 1], ['hint', 1], ['plug', 1], ['blaze', 1]]\n",
      "\n",
      "('foundation', 'house', 'base')\n",
      "[['building', 8], ['structure', 4], ['statue', 2], ['mountain', 2], ['floor', 1], ['board', 1], ['body', 1], ['house', 1], ['platform', 1], ['table', 1], ['podium', 1], ['secure', 1], ['tower', 1], ['baseball', 1], ['pyramid', 1], ['ground', 1], ['formation', 1], ['summit', 1]]\n",
      "\n",
      "('saxophone', 'jazz', 'harmonica')\n",
      "[['blues', 19], ['country', 4], ['folk', 3], ['classical', 2], ['bluegrass', 2], ['song', 1], ['music', 1], ['polka', 1]]\n",
      "\n",
      "('painting', 'canvas', 'birthmark')\n",
      "[['skin', 19], ['body', 7], ['mole', 1], ['blemish', 1]]\n",
      "\n",
      "('hoof', 'hoofprint', 'introduction')\n",
      "[['impression', 6], ['friendship', 3], ['handshake', 2], ['greeting', 2], ['story', 2], ['sentence', 1], ['text', 1], ['paper', 1], ['introduce', 1], ['beginning', 1], ['intro', 1], ['summary', 1], ['meeting', 1], ['start', 1], ['finish', 1], ['hello', 1], ['conclusion', 1], ['introduced', 1], ['essay', 1]]\n",
      "\n",
      "('lamb chop', 'lamb', 'pork chop')\n",
      "[['pig', 19], ['pork', 10], ['beef', 1]]\n",
      "\n",
      "('nose', 'scent', 'antenna')\n",
      "[['signal', 15], ['reception', 3], ['feel', 2], ['radio', 1], ['sense', 1], ['television', 1], ['communicate', 1], ['sound', 1], ['radio waves', 1], ['vibration', 1], ['waves', 1], ['tv', 1], ['sensory', 1]]\n",
      "\n",
      "('pen', 'pig', 'coop')\n",
      "[['chicken', 27], ['hen', 1], ['pencil', 1], ['chickens', 1]]\n",
      "\n",
      "('multiplication', 'product', 'brewing')\n",
      "[['beer', 23], ['boil', 2], ['coffee', 2], ['tea', 1], ['drink', 1]]\n",
      "\n",
      "('basketball', 'hoop', 'traveler')\n",
      "[['car', 4], ['airplane', 3], ['city', 3], ['plane', 3], ['destination', 2], ['tunnel', 2], ['passport', 1], ['highway', 1], ['border', 1], ['basketball', 1], ['luggage', 1], ['adventure', 1], ['train', 1], ['road', 1], ['journey', 1], ['bag', 1], ['suitcase', 1], ['gate', 1], ['travel', 1]]\n",
      "\n",
      "('hoof', 'hoofprint', 'paw')\n",
      "[['pawprint', 24], ['leg', 1], ['cat', 1], ['paw', 1], ['claw', 1], ['mark', 1], ['hind paw', 1], ['footprint', 1], ['paw print', 1]]\n",
      "\n",
      "('aspirin', 'pain', 'antacid')\n",
      "[['heartburn', 11], ['indigestion', 8], ['ache', 3], ['stomach', 2], ['gas', 2], ['ulcer', 1], ['acidity', 1], ['stomachache', 1], ['acid', 1]]\n",
      "\n",
      "('ash', 'fireplace', 'lint')\n",
      "[['dryer', 16], ['cloth', 3], ['sweater', 2], ['clothes', 1], ['fuzz', 1], ['belly button', 1], ['pocket', 1], ['laundry', 1], ['spool', 1], ['vent', 1], ['fibers', 1], ['fibre', 1]]\n",
      "\n",
      "('blizzard', 'snowflake', 'army')\n",
      "[['soldier', 19], ['soldiers', 5], ['solider', 2], ['bullet', 1], ['blizzard', 1], ['soildier', 1]]\n",
      "\n",
      "('knee', 'kneepad', 'elbow')\n",
      "[['elbowpad', 18], ['elbow pad', 4], ['arm', 2], ['joint', 2], ['sleeve', 1], ['elbowpads', 1], ['wrap', 1], ['elbowguard', 1]]\n",
      "\n",
      "('eraser', 'pencil', 'whiteout')\n",
      "[['pen', 17], ['ink', 5], ['paper', 2], ['typewriter', 1], ['whiteout', 1], ['bottle', 1], ['marker', 1], ['snow', 1], ['highlighter', 1]]\n",
      "\n",
      "('basketball', 'hoop', 'soccer ball')\n",
      "[['goal', 16], ['net', 13], ['foot', 1], ['goalpost', 1], ['post', 1]]\n",
      "\n",
      "('nose', 'scent', 'tongue')\n",
      "[['taste', 29], ['scent', 1], ['taste buds', 1], ['ring', 1], ['flavor', 1]]\n",
      "\n",
      "('answer', 'riddle', 'solution')\n",
      "[['problem', 22], ['question', 4], ['puzzle', 2], ['thinking', 1], ['plan', 1]]\n",
      "\n",
      "('blindness', 'sight', 'poverty')\n",
      "[['wealth', 14], ['money', 5], ['rich', 3], ['poor', 3], ['brightness', 1], ['sad', 1], ['profit', 1], ['riches', 1]]\n",
      "\n",
      "('foundation', 'house', 'premise')\n",
      "[['story', 6], ['idea', 4], ['argument', 4], ['theory', 3], ['structure', 1], ['territory', 1], ['here', 1], ['clause', 1], ['location', 1], ['statement', 1], ['film', 1], ['thesis', 1], ['conclusion', 1], ['solution', 1], ['hypothesis', 1], ['steps', 1]]\n",
      "\n",
      "('father', 'son', 'mother')\n",
      "[['daughter', 30], ['father', 1]]\n",
      "\n",
      "('landscaper', 'lawn', 'stylist')\n",
      "[['hair', 26], ['fashionable', 1], ['clothes', 1], ['hairdresser', 1], ['initiator', 1]]\n",
      "\n",
      "('furnace', 'coal', 'wood stove')\n",
      "[['wood', 22], ['oven', 1], ['furnace', 1], ['paraffin', 1], ['boiler', 1], ['lumber', 1], ['logs', 1]]\n",
      "\n",
      "('immunization', 'disease', 'forewarning')\n",
      "[['disaster', 14], ['danger', 3], ['tragedy', 2], ['warning', 2], ['accident', 2], ['ahead', 1], ['storm', 1], ['ready', 1], ['omen', 1], ['beguile', 1], ['event', 1], ['catastrophe', 1], ['safety', 1]]\n",
      "\n",
      "('revising', 'manuscript', 'evolving')\n",
      "[['life', 5], ['species', 4], ['growing', 2], ['organism', 2], ['change', 2], ['world', 2], ['ideas', 1], ['biological', 1], ['continuing', 1], ['idea', 1], ['nature', 1], ['generation', 1], ['postscript', 1], ['genes', 1], ['story', 1], ['changes', 1], ['human', 1], ['develop', 1], ['advancing', 1], ['situation', 1]]\n",
      "\n",
      "('blindness', 'sight', 'deafness')\n",
      "[['hearing', 28], ['sound', 2], ['ears', 1]]\n",
      "\n",
      "('foresight', 'future', 'X-ray')\n",
      "[['bones', 8], ['inside', 4], ['vision', 3], ['scan', 2], ['mri', 1], ['internal', 1], ['bone', 1], ['diagnosis', 1], ['future', 1], ['transparent', 1], ['visability', 1], ['skeleton', 1], ['machine', 1], ['body', 1], ['radiation', 1], ['hindsight', 1], ['skin', 1]]\n",
      "\n",
      "('foresight', 'future', 'hindsight')\n",
      "[['past', 29], ['plan', 1], ['present', 1]]\n",
      "\n",
      "('burger', 'bun', 'sub')\n",
      "[['bread', 7], ['sandwich', 5], ['roll', 4], ['bun', 2], ['turkey', 2], ['water', 2], ['number', 1], ['sub', 1], ['ham', 1], ['baguette', 1], ['train', 1], ['ocean', 1], ['replacement', 1]]\n",
      "\n",
      "('blizzard', 'snowflake', 'monsoon')\n",
      "[['raindrop', 16], ['rain', 8], ['water', 4], ['tornado', 1], ['mon', 1], ['drought', 1], ['drizzle', 1], ['water drop', 1]]\n",
      "\n",
      "('train', 'track', 'trolley')\n",
      "[['rail', 9], ['street', 5], ['track', 3], ['cable', 2], ['wires', 2], ['line', 2], ['road', 2], ['car', 1], ['rails', 1], ['roller', 1], ['route', 1], ['bus', 1]]\n",
      "\n",
      "('ash', 'fireplace', 'soot')\n",
      "[['chimney', 16], ['water', 2], ['furnace', 2], ['damp', 1], ['candle', 1], ['chimey', 1], ['powdery', 1], ['ash', 1], ['kiln', 1], ['fire', 1], ['stove', 1], ['powder', 1], ['burn', 1], ['rust', 1]]\n",
      "\n",
      "('orchard', 'apple', 'neighborhood')\n",
      "[['house', 13], ['people', 5], ['neighbor', 2], ['homes', 2], ['person', 2], ['street', 2], ['houses', 2], ['family', 1], ['neighbors', 1], ['neighbours', 1]]\n",
      "\n",
      "('saxophone', 'jazz', 'typewriter')\n",
      "[['writing', 4], ['text', 2], ['book', 2], ['letter', 2], ['story', 2], ['keys', 2], ['novel', 2], ['words', 2], ['typist', 1], ['typewriter', 1], ['clacking', 1], ['manuscript', 1], ['essay', 1], ['poetry', 1], ['spell humor', 1], ['article', 1], ['journalism', 1], ['typing', 1], ['letters', 1]]\n",
      "\n",
      "('aspirin', 'pain', 'muffler')\n",
      "[['sound', 7], ['noise', 7], ['exhaust', 5], ['car', 4], ['warm', 2], ['fumes', 1], ['asprin', 1], ['warmth', 1], ['silence', 1], ['smoke', 1]]\n",
      "\n",
      "('bracelet', 'wrist', 'ring')\n",
      "[['finger', 29], ['fingure', 1]]\n",
      "\n",
      "('ketchup', 'tomato', 'fuel')\n",
      "[['oil', 10], ['gasoline', 4], ['gas', 4], ['fire', 2], ['petrol', 2], ['car', 2], ['vehicle', 1], ['fossils', 1], ['fossil', 1], ['crude oil', 1], ['carbon', 1]]\n",
      "\n",
      "('sugar', 'coffee', 'incentive')\n",
      "[['work', 5], ['task', 4], ['reward', 3], ['salary', 3], ['bonus', 2], ['job', 2], ['motivation', 2], ['tea', 1], ['bank', 1], ['item', 1], ['chore', 1], ['goal', 1], ['payment', 1], ['motive', 1], ['deal', 1], ['purchase', 1], ['money', 1], ['stimulant', 1], ['tip jar', 1]]\n",
      "\n",
      "('watermelon', 'rind', 'orange')\n",
      "[['peel', 25], ['skin', 2], ['apple', 1], ['pulp', 1], ['juicy', 1]]\n",
      "\n",
      "('answer', 'riddle', 'key')\n",
      "[['lock', 17], ['door', 4], ['puzzle', 2], ['unlock', 1], ['map', 1], ['item', 1], ['code', 1], ['keyhole', 1], ['riddle', 1], ['test', 1], ['question', 1]]\n",
      "\n",
      "('landscaper', 'lawn', 'gardener')\n",
      "[['garden', 23], ['flowers', 2], ['plants', 1], ['flowerbed', 1], ['gardener', 1], ['shrubs', 1], ['tools', 1], ['pathway', 1]]\n",
      "\n",
      "('flock', 'goose', 'constellation')\n",
      "[['star', 16], ['stars', 14], ['concept', 1], ['vulpecula', 1]]\n",
      "\n",
      "('revising', 'manuscript', 'editing')\n",
      "[['paper', 4], ['book', 4], ['article', 3], ['copy', 3], ['journal', 1], ['grammar', 1], ['editor', 1], ['fixing', 1], ['over writing', 1], ['script', 1], ['program', 1], ['screenplay', 1], ['text', 1], ['disorder', 1], ['video', 1], ['essay', 1], ['papwe', 1], ['reflect', 1], ['publishing', 1], ['document', 1]]\n",
      "\n",
      "('rectangle', 'perimeter', 'nation')\n",
      "[['border', 21], ['country', 2], ['army', 1], ['nation', 1], ['coast', 1], ['defense', 1], ['borders', 1], ['worldwide', 1]]\n",
      "\n",
      "('furnace', 'coal', 'stomach')\n",
      "[['food', 26], ['acid', 5], ['heat', 1], ['ulcers', 1], ['digestive system', 1]]\n",
      "\n",
      "('law school', 'lawyer', 'medical school')\n",
      "[['doctor', 28], ['nurse', 1], ['docter', 1], ['dictor', 1]]\n",
      "\n",
      "('launchpad', 'helicopter', 'diving board')\n",
      "[['diver', 10], ['pool', 9], ['swimmer', 7], ['car', 2], ['person', 1], ['people dive', 1], ['water', 1], ['swimming pool', 1]]\n",
      "\n",
      "('knee', 'kneepad', 'snail')\n",
      "[['shell', 25], ['snail', 2], ['slow', 1], ['salt', 1], ['french cuisine', 1], ['ground', 1], ['snailshell', 1]]\n",
      "\n",
      "('cleanser', 'face', 'absolution')\n",
      "[['soul', 8], ['sin', 7], ['guilt', 3], ['sins', 2], ['acne', 1], ['clear', 1], ['destruction', 1], ['forgiveness', 1], ['absolution', 1], ['peace', 1], ['priest', 1], ['answer', 1], ['sinner', 1], ['punishment', 1], ['person', 1]]\n",
      "\n",
      "('ketchup', 'tomato', 'guacamole')\n",
      "[['avocado', 25], ['avacado', 4], ['dip', 1], ['guacamole', 1], ['salad', 1]]\n",
      "\n",
      "('watermelon', 'rind', 'cigarette')\n",
      "[['butt', 20], ['paper', 7], ['tabacco', 1], ['kings', 1], ['smoke', 1], ['stub', 1], ['pack', 1], ['bud', 1]]\n",
      "\n",
      "('painting', 'canvas', 'drawing')\n",
      "[['paper', 21], ['pad', 2], ['pencil', 1], ['picture', 1], ['sketchpad', 1], ['sheet', 1], ['canvas', 1], ['brush', 1], ['paint', 1], ['book', 1], ['board', 1]]\n",
      "\n",
      "('launchpad', 'helicopter', 'runway')\n",
      "[['airplane', 19], ['plane', 6], ['model', 2], ['air plane', 1], ['ramp', 1], ['bicycles', 1]]\n",
      "\n",
      "('flock', 'goose', 'wolf pack')\n",
      "[['wolf', 24], ['wolves', 4], ['flock', 1]]\n",
      "\n",
      "('law school', 'lawyer', 'vineyard')\n",
      "[['wine', 15], ['grapes', 4], ['grape', 2], ['farmer', 2], ['law school', 1], ['brewer', 1], ['gardener', 1], ['wine maker', 1], ['vigneron', 1], ['farm worker', 1], ['winemaker', 1]]\n",
      "\n",
      "('kitten', 'cat', 'puppy')\n",
      "[['dog', 31], ['kitten', 1]]\n",
      "\n",
      "('baker', 'cake', 'scientist')\n",
      "[['experiment', 12], ['science', 4], ['theory', 2], ['formula', 2], ['lab', 1], ['medicine', 1], ['concoction', 1], ['hypothesis', 1], ['vaccine', 1], ['specimen', 1], ['research', 1], ['analyst', 1], ['discovery', 1], ['chemicals', 1]]\n",
      "\n",
      "('jacket', 'zipper', 'overcoat')\n",
      "[['button', 16], ['buttons', 6], ['belt', 2], ['warm', 1], ['coat', 1], ['hood', 1], ['rain', 1], ['parka', 1], ['hoodie', 1]]\n",
      "\n",
      "('eraser', 'pencil', 'amnesia')\n",
      "[['memory', 18], ['brain', 3], ['mind', 2], ['sick', 1], ['concussion', 1], ['forget', 1], ['human', 1], ['patient', 1], ['hypermnesia', 1], ['head', 1], ['head trauma', 1]]\n",
      "\n",
      "('sugar', 'coffee', 'honey')\n",
      "[['tea', 23], ['milk', 2], ['toast', 1], ['taste', 1], ['bees', 1], ['bagel', 1], ['cereal', 1]]\n",
      "\n",
      "('movie', 'screen', 'game show')\n",
      "[['television', 12], ['tv', 8], ['host', 3], ['live', 2], ['podium', 1], ['board', 1], ['amazing race', 1], ['game', 1]]\n",
      "\n",
      "('basket', 'picnic', 'lunch box')\n",
      "[['lunch', 23], ['school', 4], ['pale', 1], ['meal', 1], ['food', 1]]\n",
      "\n"
     ]
    }
   ],
   "source": [
    "import pandas as pd\n",
    "from operator import itemgetter\n",
    "import cPickle\n",
    "\n",
    "dataset = 'Green'\n",
    "\n",
    "attn_check_Qs = [(\"East\", \"West\", \"North\"),\n",
    "                 (\"hot\", \"cold\", \"warm\"),\n",
    "                 (\"king\", \"queen\", \"prince\"),\n",
    "                 (\"sister\", \"brother\", \"aunt\"),\n",
    "                 (\"hand\", \"fingers\", \"foot\")]\n",
    "\n",
    "all_data = pd.read_csv('Green1.0/trialdata_cleaned.csv', header = None, names = ['id', 'trial', 'time', 'data'])\n",
    "data = all_data['data'].values\n",
    "\n",
    "with open('AB_rel_dict.pickle', 'rb') as dictFile:\n",
    "    AB_rel_dict = cPickle.load(dictFile)\n",
    "\n",
    "answers_dict = {}\n",
    "for trial in data:\n",
    "    if trial[0] == '[':\n",
    "        parts = trial.split('\"')\n",
    "        parts = [part.strip() for part in parts]\n",
    "        \n",
    "        # For SemEval, attach the corresponding relation to each question\n",
    "        \"\"\"\n",
    "        if dataset == 'SemEval':\n",
    "            AB = (parts[1], parts[3])\n",
    "            relation = AB_rel_dict[AB]\n",
    "            question = (relation, (parts[1], parts[3], parts[5]))\n",
    "        else:\n",
    "        \"\"\"\n",
    "        question = (parts[1], parts[3], parts[5])\n",
    "        if question not in attn_check_Qs:\n",
    "            answer = parts[7]\n",
    "            if answer != 'SKIP':\n",
    "                answer = answer.lower()\n",
    "                if question in answers_dict:\n",
    "                    ans_counts = answers_dict[question]\n",
    "                    answers = [pair[0] for pair in ans_counts]\n",
    "                    if answer in answers:\n",
    "                        i = answers.index(answer)\n",
    "                        ans_counts[i][1] += 1\n",
    "                    else:\n",
    "                        ans_counts.append([answer, 1])\n",
    "                else:\n",
    "                    answers_dict[question] = [[answer, 1]]\n",
    "\n",
    "# Remove this bad question. I'm not sure why it's in there--maybe an intermediate version of the code?\n",
    "#answers_dict.pop(('sister', 'brother', 'uncle'))\n",
    "\n",
    "for answers in answers_dict.itervalues():\n",
    "    answers.sort(key = itemgetter(1), reverse = True)\n",
    "                \n",
    "for question, answers in answers_dict.iteritems():\n",
    "    print question\n",
    "    print answers\n",
    "    print\n",
    "\n",
    "results_file = '../../word2vec-tests/data/analogy/analogy-completion/{}-results-no-attn-checks.pickle'.format(dataset)\n",
    "with open(results_file, 'wb') as pickle_file:\n",
    "    cPickle.dump(answers_dict, pickle_file, cPickle.HIGHEST_PROTOCOL)"
   ]
  },
  {
   "cell_type": "code",
   "execution_count": 60,
   "metadata": {
    "collapsed": false
   },
   "outputs": [
    {
     "name": "stdout",
     "output_type": "stream",
     "text": [
      "('10c', ('diary', 'person', 'signature'))\n",
      "[['person', 6], ['name', 3], ['contract', 2], ['pen', 2], ['paper', 2], ['hand', 2], ['individual', 2], ['identity', 1], ['line', 1], ['guardian', 1], ['writing', 1], ['supervisor', 1], ['glimpse', 1], ['sign', 1], ['man', 1], ['owner', 1], ['page', 1], ['letter', 1]]\n"
     ]
    }
   ],
   "source": [
    "import cPickle, random\n",
    "\n",
    "dataset = 'SemEval'\n",
    "results_file = '../../word2vec-tests/data/analogy/analogy-completion/{}-results.pickle'.format(dataset)\n",
    "with open(results_file, 'rb') as pickle_file:\n",
    "    answers_dict = cPickle.load(pickle_file)\n",
    "    \n",
    "rand_index = random.randint(0, len(answers_dict))\n",
    "question = answers_dict.keys()[rand_index]\n",
    "answers = answers_dict[question]\n",
    "\n",
    "print question\n",
    "print answers"
   ]
  },
  {
   "cell_type": "code",
   "execution_count": 61,
   "metadata": {
    "collapsed": false
   },
   "outputs": [
    {
     "name": "stdout",
     "output_type": "stream",
     "text": [
      "[['sleep', 11], ['sleepy', 6], ['rest', 2], ['awake', 2], ['sleepiness', 1], ['fatigue', 1], ['slowness', 1], ['energy', 1], ['cool', 1], ['sluggish', 1], ['pep', 1], ['inattention', 1], ['groggy', 1], ['coffee', 1]]\n"
     ]
    }
   ],
   "source": [
    "question = ('8b', ('lateness', 'hurry', 'tiredness'))\n",
    "answers = answers_dict[question]\n",
    "print answers"
   ]
  },
  {
   "cell_type": "code",
   "execution_count": 7,
   "metadata": {
    "collapsed": false
   },
   "outputs": [
    {
     "name": "stdout",
     "output_type": "stream",
     "text": [
      "[['problem', 22], ['question', 4], ['puzzle', 2], ['thinking', 1], ['plan', 1]]\n"
     ]
    }
   ],
   "source": [
    "question = ('answer', 'riddle', 'solution')\n",
    "answers = answers_dict[question]\n",
    "print answers"
   ]
  },
  {
   "cell_type": "code",
   "execution_count": 10,
   "metadata": {
    "collapsed": false
   },
   "outputs": [
    {
     "name": "stdout",
     "output_type": "stream",
     "text": [
      "[['lock', 17], ['door', 4], ['puzzle', 2], ['unlock', 1], ['map', 1], ['item', 1], ['code', 1], ['keyhole', 1], ['riddle', 1], ['test', 1], ['question', 1]]\n",
      "[ 0.5483871   0.12903226  0.06451613  0.03225806  0.03225806  0.03225806\n",
      "  0.03225806  0.03225806  0.03225806  0.03225806  0.03225806]\n"
     ]
    }
   ],
   "source": [
    "question = ('answer', 'riddle', 'key')\n",
    "answers = answers_dict[question]\n",
    "print answers\n",
    "\n",
    "import numpy as np\n",
    "words, freqs = zip(*answers)\n",
    "\n",
    "freqs = np.array(freqs)\n",
    "props = freqs / float(np.sum(freqs))\n",
    "\n",
    "print props"
   ]
  },
  {
   "cell_type": "code",
   "execution_count": 32,
   "metadata": {
    "collapsed": false
   },
   "outputs": [
    {
     "data": {
      "text/html": [
       "<script>requirejs.config({paths: { 'plotly': ['https://cdn.plot.ly/plotly-latest.min']},});if(!window.Plotly) {{require(['plotly'],function(plotly) {window.Plotly=plotly;});}}</script>"
      ],
      "text/plain": [
       "<IPython.core.display.HTML object>"
      ]
     },
     "metadata": {},
     "output_type": "display_data"
    }
   ],
   "source": [
    "from plotly.offline import download_plotlyjs, init_notebook_mode, plot, iplot\n",
    "import plotly.graph_objs as go\n",
    "import plotly.plotly as py\n",
    "\n",
    "init_notebook_mode(connected=True)"
   ]
  },
  {
   "cell_type": "code",
   "execution_count": 51,
   "metadata": {
    "collapsed": false
   },
   "outputs": [
    {
     "data": {
      "text/html": [
       "<div id=\"84573d82-8782-428f-9e53-ab0d0cd3f7f3\" style=\"height: 525px; width: 100%;\" class=\"plotly-graph-div\"></div><script type=\"text/javascript\">require([\"plotly\"], function(Plotly) { window.PLOTLYENV=window.PLOTLYENV || {};window.PLOTLYENV.BASE_URL=\"https://plot.ly\";Plotly.newPlot(\"84573d82-8782-428f-9e53-ab0d0cd3f7f3\", [{\"marker\": {\"color\": \"rgb(100, 100, 100)\"}, \"y\": [0.5483870967741935, 0.12903225806451613, 0.06451612903225806, 0.03225806451612903, 0.03225806451612903, 0.03225806451612903, 0.03225806451612903, 0.03225806451612903, 0.03225806451612903, 0.03225806451612903, 0.03225806451612903], \"type\": \"bar\", \"x\": [\"lock\", \"door\", \"puzzle\", \"unlock\", \"map\", \"item\", \"code\", \"keyhole\", \"riddle\", \"test\", \"question\"]}], {\"title\": \"Responses to <i>answer</i> : <i>riddle</i> :: <i>key</i> : ?\", \"bargap\": 0.3, \"font\": {\"size\": 14}, \"annotations\": [{\"yanchor\": \"bottom\", \"xanchor\": \"center\", \"text\": \"17\", \"y\": 0.5483870967741935, \"x\": \"lock\", \"showarrow\": false}, {\"yanchor\": \"bottom\", \"xanchor\": \"center\", \"text\": \"4\", \"y\": 0.12903225806451613, \"x\": \"door\", \"showarrow\": false}, {\"yanchor\": \"bottom\", \"xanchor\": \"center\", \"text\": \"2\", \"y\": 0.06451612903225806, \"x\": \"puzzle\", \"showarrow\": false}, {\"yanchor\": \"bottom\", \"xanchor\": \"center\", \"text\": \"1\", \"y\": 0.03225806451612903, \"x\": \"unlock\", \"showarrow\": false}, {\"yanchor\": \"bottom\", \"xanchor\": \"center\", \"text\": \"1\", \"y\": 0.03225806451612903, \"x\": \"map\", \"showarrow\": false}, {\"yanchor\": \"bottom\", \"xanchor\": \"center\", \"text\": \"1\", \"y\": 0.03225806451612903, \"x\": \"item\", \"showarrow\": false}, {\"yanchor\": \"bottom\", \"xanchor\": \"center\", \"text\": \"1\", \"y\": 0.03225806451612903, \"x\": \"code\", \"showarrow\": false}, {\"yanchor\": \"bottom\", \"xanchor\": \"center\", \"text\": \"1\", \"y\": 0.03225806451612903, \"x\": \"keyhole\", \"showarrow\": false}, {\"yanchor\": \"bottom\", \"xanchor\": \"center\", \"text\": \"1\", \"y\": 0.03225806451612903, \"x\": \"riddle\", \"showarrow\": false}, {\"yanchor\": \"bottom\", \"xanchor\": \"center\", \"text\": \"1\", \"y\": 0.03225806451612903, \"x\": \"test\", \"showarrow\": false}, {\"yanchor\": \"bottom\", \"xanchor\": \"center\", \"text\": \"1\", \"y\": 0.03225806451612903, \"x\": \"question\", \"showarrow\": false}], \"yaxis\": {\"showgrid\": false}}, {\"linkText\": \"Export to plot.ly\", \"showLink\": true})});</script>"
      ],
      "text/plain": [
       "<IPython.core.display.HTML object>"
      ]
     },
     "metadata": {},
     "output_type": "display_data"
    }
   ],
   "source": [
    "data = [go.Bar(x=words, y=props,\n",
    "               marker=dict(color='rgb(100, 100, 100)'))]\n",
    "\n",
    "layout = go.Layout(annotations=[dict(x=word,\n",
    "                                     y=prop,\n",
    "                                     text=str(freq),\n",
    "                                     xanchor='center',\n",
    "                                     yanchor='bottom',\n",
    "                                     showarrow=False) for word, freq, prop in zip(words, freqs, props)],\n",
    "                   title='Responses to <i>answer</i> : <i>riddle</i> :: <i>key</i> : ?',\n",
    "                   font=dict(size = 14),\n",
    "                   bargap = 0.3,\n",
    "                   yaxis = dict(showgrid = False)\n",
    ")\n",
    "\n",
    "fig = go.Figure(data=data, layout=layout)\n",
    "iplot(fig)"
   ]
  }
 ],
 "metadata": {
  "kernelspec": {
   "display_name": "Python 2",
   "language": "python",
   "name": "python2"
  },
  "language_info": {
   "codemirror_mode": {
    "name": "ipython",
    "version": 2
   },
   "file_extension": ".py",
   "mimetype": "text/x-python",
   "name": "python",
   "nbconvert_exporter": "python",
   "pygments_lexer": "ipython2",
   "version": "2.7.12"
  }
 },
 "nbformat": 4,
 "nbformat_minor": 0
}
